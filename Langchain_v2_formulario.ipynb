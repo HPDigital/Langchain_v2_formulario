{
 "cells": [
  {
   "cell_type": "code",
   "execution_count": 1,
   "id": "fccc1a62",
   "metadata": {
    "scrolled": true
   },
   "outputs": [],
   "source": [
    "#!pip install python-docx langchain\n",
    "#!pip install langchain faiss-cpu openai\n",
    "#!pip install --upgrade --quiet  docx2txt\n",
    "#!pip install pypdf"
   ]
  },
  {
   "cell_type": "code",
   "execution_count": 2,
   "id": "2f5d6ccb",
   "metadata": {},
   "outputs": [
    {
     "name": "stdout",
     "output_type": "stream",
     "text": [
      "315\n",
      "La justificación de enseñar Excel se puede abordar desde tres perspectivas principales: sociocultural, profesional y disciplinar.\n",
      "\n",
      "1. **Justificación Sociocultural**:\n",
      "   - **Relevancia en la Sociedad Actual**: En un mundo cada vez más digital, las habilidades en Excel son fundamentales para la alfabetización digital. Enseñar Excel ayuda a los estudiantes a integrarse mejor en una sociedad donde la tecnología y la gestión de datos son omnipresentes.\n",
      "\n",
      "2. **Justificación Profesional**:\n",
      "   - **Aumento de Oportunidades Laborales**: Excel es una herramienta ampliamente utilizada en numerosas profesiones y sectores. Dominar Excel aumenta significativamente las oportunidades de empleo y mejora la eficiencia en el trabajo.\n",
      "   - **Mejora de la Eficiencia Laboral**: El uso de Excel permite a los profesionales organizar, analizar y presentar datos de manera más eficaz, lo que se traduce en una mayor productividad y toma de decisiones informadas.\n",
      "\n",
      "3. **Justificación Disciplinar**:\n",
      "   - **Desarrollo de Habilidades Matemáticas y Analíticas**: Excel combina principios matemáticos, lógicos y analíticos, lo que ayuda a los estudiantes a desarrollar habilidades en cálculo, organización y manipulación de datos, resolución de problemas y análisis crítico.\n",
      "   - **Fomento del Pensamiento Computacional**: Al trabajar con fórmulas, funciones y herramientas de análisis en Excel, los estudiantes desarrollan habilidades de pensamiento computacional y capacidad de abstracción.\n",
      "   - **Transferibilidad de Conocimientos**: Los conocimientos adquiridos en Excel son transferibles a otras hojas de cálculo y aplicaciones similares, proporcionando una base sólida para el aprendizaje continuo en el ámbito de las tecnologías de la información y la comunicación.\n",
      "\n",
      "En resumen, la enseñanza de Excel es crucial no solo por su relevancia en el entorno laboral y profesional, sino también por su capacidad para desarrollar habilidades matemáticas, analíticas y de resolución de problemas, y por su papel en la alfabetización digital en una sociedad en constante evolución.\n"
     ]
    }
   ],
   "source": [
    "# Lo que hace es carga todo los documentos, los separa en chuca, despeus cada chuk es vectorizado \n",
    "# y se gunarad en la base de datos, despues buca los chunks mas similares a la pregunta y esos los pasa como contexto\n",
    "# de sta forma se ahorra en el costo de tokens y no se sobrepasa los limites\n",
    "from dotenv import load_dotenv\n",
    "load_dotenv()\n",
    "\n",
    "from langchain_openai import ChatOpenAI\n",
    "from langchain.document_loaders import DirectoryLoader\n",
    "from langchain_community.document_loaders import PyPDFLoader\n",
    "from langchain_core.prompts import ChatPromptTemplate\n",
    "from langchain.chains.combine_documents import create_stuff_documents_chain\n",
    "from langchain_community.document_loaders import WebBaseLoader\n",
    "from langchain.text_splitter import RecursiveCharacterTextSplitter\n",
    "from langchain_openai import OpenAIEmbeddings\n",
    "from langchain_community.vectorstores.faiss import FAISS\n",
    "from langchain.chains import create_retrieval_chain\n",
    "\n",
    "\n",
    "def get_documents_from_doc(direc):\n",
    "    loader = DirectoryLoader(direc, glob= \".\\\\*pdf\",loader_cls=PyPDFLoader)\n",
    "    docs = loader.load() \n",
    "    splitter = RecursiveCharacterTextSplitter(chunk_size =800, chunk_overlap = 80)\n",
    "    splitDocs = splitter.split_documents(docs)\n",
    "    print(len(splitDocs))\n",
    "    return splitDocs\n",
    "\n",
    "def create_db(docs):\n",
    "    embeddings = OpenAIEmbeddings()\n",
    "    vectorStore = FAISS.from_documents(docs, embedding = embeddings)\n",
    "    return vectorStore\n",
    "\n",
    "\n",
    "def create_chain(vectorStore):\n",
    "    llm = ChatOpenAI(model = \"gpt-4o\",\n",
    "                 temperature = 0.7, # mas cerca de 0 mas concreto mas cerca de 1 mas creativo\n",
    "                 verbose = True\n",
    "                 )\n",
    "\n",
    "    prompt = ChatPromptTemplate.from_template(\"\"\" Responde a las preguntas del ususario:\n",
    "                                            Contexto: {context} \n",
    "                                            Pregunta: {input}\n",
    "                                            \"\"\")\n",
    "    \n",
    "    chain = create_stuff_documents_chain(llm = llm, prompt = prompt)\n",
    "    \n",
    "    retriever = vectorStore.as_retriever(search_kwargs={\"k\": 2})\n",
    "    retrieval_chain = create_retrieval_chain(retriever, chain)\n",
    "\n",
    "    return retrieval_chain\n",
    "    \n",
    "    \n",
    "\n",
    "direc = \"C:\\\\Users\\\\HP\\\\Desktop\\\\PROPUESTAS DE DIPLOMADO\\\\PROPUESTAS DE DIPLOMADO A POS-GRADO\\\\MODIFICADOS\\\\\"\n",
    "docs = get_documents_from_doc(direc)\n",
    "vectorStore = create_db(docs)\n",
    "chain = create_chain(vectorStore)\n",
    "\n",
    "    \n",
    "response = chain.invoke({ \"input\":\"Cual es la justificacion de excel\",\n",
    "                        # \"context\" :docs --> al usar retrieval chain ya no se debe pasar contexto de esta forma\n",
    "                        })\n",
    "\n",
    "print(response[\"answer\"])"
   ]
  },
  {
   "cell_type": "code",
   "execution_count": null,
   "id": "91480e0e",
   "metadata": {},
   "outputs": [],
   "source": []
  }
 ],
 "metadata": {
  "kernelspec": {
   "display_name": "Python 3 (ipykernel)",
   "language": "python",
   "name": "python3"
  },
  "language_info": {
   "codemirror_mode": {
    "name": "ipython",
    "version": 3
   },
   "file_extension": ".py",
   "mimetype": "text/x-python",
   "name": "python",
   "nbconvert_exporter": "python",
   "pygments_lexer": "ipython3",
   "version": "3.11.9"
  }
 },
 "nbformat": 4,
 "nbformat_minor": 5
}
